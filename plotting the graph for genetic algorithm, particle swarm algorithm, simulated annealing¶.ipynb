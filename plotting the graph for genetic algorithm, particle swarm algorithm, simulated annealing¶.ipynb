{
 "cells": [
  {
   "cell_type": "markdown",
   "id": "af406290",
   "metadata": {},
   "source": [
    "# plotting the graph for genetic algorithm, particle swarm algorithm, simulated annealing"
   ]
  },
  {
   "cell_type": "code",
   "execution_count": 40,
   "id": "0b119a0e",
   "metadata": {},
   "outputs": [],
   "source": [
    "import pandas as pd\n",
    "import numpy as np\n",
    "import matplotlib.pyplot as plt\n",
    "import seaborn as sb"
   ]
  },
  {
   "cell_type": "code",
   "execution_count": 10,
   "id": "8d07bd1b",
   "metadata": {},
   "outputs": [],
   "source": [
    "genetic_y1 = 0.5036764705882353\n",
    "genetic_y2 = 0.998\n",
    "genetic_y3 = 1.543\n",
    "\n",
    "genetic_x1 = 3.838235294117647\n",
    "genetic_x2 = 11564.00\n",
    "genetic_x3 = 2.34\n",
    "genetic_fitness_1 = (genetic_y1 + genetic_x1) / 2\n",
    "genetic_fitness_2 = (genetic_y2 + genetic_x2) / 2\n",
    "genetic_fitness_3 = (genetic_y3 + genetic_x3) / 2"
   ]
  },
  {
   "cell_type": "code",
   "execution_count": 36,
   "id": "0c3fad3d",
   "metadata": {},
   "outputs": [],
   "source": [
    "particle_swarm_x1 = 3.1818\n",
    "particle_swarm_x2 = 2.1919\n",
    "particle_swarm_x3 = 1.20\n",
    "particle_swarm_y1 = 3.1313\n",
    "particle_swarm_y2 = 2.1313\n",
    "particle_swarm_y3 = 1.1515\n",
    "particle_swarm_fitness_1 = (particle_swarm_x1 + particle_swarm_y1) // 2\n",
    "particle_swarm_fitness_2 = (particle_swarm_x2 + particle_swarm_y2) // 2\n",
    "particle_swarm_fitness_3 = (particle_swarm_x3 + particle_swarm_y3) // 2"
   ]
  },
  {
   "cell_type": "code",
   "execution_count": 34,
   "id": "f3d9f723",
   "metadata": {},
   "outputs": [],
   "source": [
    "simulated_annealing_x = -0.1\n",
    "simulated_annealing_x2 = -0.2\n",
    "simulated_annealing_x3 = -0.3\n",
    "simulated_annealing_y = -4\n",
    "simulated_annealing_y2 = -7.5\n",
    "simulated_annealing_y3 = -8\n",
    "simulated_annealing_fitness_1 = (simulated_annealing_x + simulated_annealing_y) // 2\n",
    "simulated_annealing_fitness_2 = (simulated_annealing_x2 + simulated_annealing_y2) // 2\n",
    "simulated_annealing_fitness_3 = (simulated_annealing_x3 + simulated_annealing_y3) // 2"
   ]
  },
  {
   "cell_type": "code",
   "execution_count": 15,
   "id": "52c4fcd3",
   "metadata": {},
   "outputs": [],
   "source": [
    "import numpy as np\n",
    "import matplotlib.pyplot as plt\n",
    "\n",
    "algorithms = []\n",
    "algorithms.append ('Genetic Algorithm')\n",
    "algorithms.append ('Particle Swarm Algorithm')\n",
    "algorithms.append ('Simulated Annealing Algorithm')\n",
    "x = len(algorithms)"
   ]
  },
  {
   "cell_type": "code",
   "execution_count": 16,
   "id": "824cab5b",
   "metadata": {},
   "outputs": [
    {
     "data": {
      "text/plain": [
       "3"
      ]
     },
     "execution_count": 16,
     "metadata": {},
     "output_type": "execute_result"
    }
   ],
   "source": [
    "x"
   ]
  },
  {
   "cell_type": "code",
   "execution_count": 17,
   "id": "c66c912f",
   "metadata": {},
   "outputs": [
    {
     "data": {
      "text/plain": [
       "['Genetic Algorithm',\n",
       " 'Particle Swarm Algorithm',\n",
       " 'Simulated Annealing Algorithm']"
      ]
     },
     "execution_count": 17,
     "metadata": {},
     "output_type": "execute_result"
    }
   ],
   "source": [
    "algorithms"
   ]
  },
  {
   "cell_type": "code",
   "execution_count": 20,
   "id": "2c836884",
   "metadata": {},
   "outputs": [],
   "source": [
    "fitness_1 = []\n",
    "fitness_1.append (genetic_fitness_1)\n",
    "fitness_1.append (particle_swarm_fitness_1)\n",
    "fitness_1.append (simulated_annealing_fitness_1)"
   ]
  },
  {
   "cell_type": "code",
   "execution_count": 27,
   "id": "a20d6c7a",
   "metadata": {},
   "outputs": [],
   "source": [
    "fitness_2 = []\n",
    "fitness_2.append (genetic_fitness_2)\n",
    "fitness_2.append (particle_swarm_fitness_2)\n",
    "fitness_2.append (simulated_annealing_fitn1000ess_2)"
   ]
  },
  {
   "cell_type": "code",
   "execution_count": 28,
   "id": "ba012d77",
   "metadata": {},
   "outputs": [],
   "source": [
    "fitness_3 = []\n",
    "fitness_3.append (genetic_fitness_3)\n",
    "fitness_3.append (particle_swarm_fitness_3)\n",
    "fitness_3.append (simulated_annealing_fitness_3)"
   ]
  },
  {
   "cell_type": "code",
   "execution_count": 37,
   "id": "c7cd16a7",
   "metadata": {},
   "outputs": [],
   "source": [
    "target = [100, 45, 30]"
   ]
  },
  {
   "cell_type": "code",
   "execution_count": 41,
   "id": "2dcae482",
   "metadata": {},
   "outputs": [],
   "source": [
    "dict_algo = {\n",
    "    'genetic algorithm' : fitness_1,\n",
    "    'particle swarm algorithm' : fitness_2,\n",
    "    'simulated annealing': fitness_3,\n",
    "    'target' : target\n",
    "}\n",
    "df = pd.DataFrame (dict_algo)\n",
    "df.to_csv('Desktop\\\\research_project.csv')"
   ]
  },
  {
   "cell_type": "code",
   "execution_count": 49,
   "id": "8301ba1e",
   "metadata": {
    "scrolled": true
   },
   "outputs": [
    {
     "data": {
      "text/html": [
       "<div>\n",
       "<style scoped>\n",
       "    .dataframe tbody tr th:only-of-type {\n",
       "        vertical-align: middle;\n",
       "    }\n",
       "\n",
       "    .dataframe tbody tr th {\n",
       "        vertical-align: top;\n",
       "    }\n",
       "\n",
       "    .dataframe thead th {\n",
       "        text-align: right;\n",
       "    }\n",
       "</style>\n",
       "<table border=\"1\" class=\"dataframe\">\n",
       "  <thead>\n",
       "    <tr style=\"text-align: right;\">\n",
       "      <th></th>\n",
       "      <th>Unnamed: 0</th>\n",
       "      <th>genetic algorithm</th>\n",
       "      <th>particle swarm algorithm</th>\n",
       "      <th>simulated annealing</th>\n",
       "      <th>target</th>\n",
       "    </tr>\n",
       "  </thead>\n",
       "  <tbody>\n",
       "    <tr>\n",
       "      <th>0</th>\n",
       "      <td>0.0</td>\n",
       "      <td>2.170955882</td>\n",
       "      <td>3.165</td>\n",
       "      <td>-2.05</td>\n",
       "      <td>100.0</td>\n",
       "    </tr>\n",
       "    <tr>\n",
       "      <th>1</th>\n",
       "      <td>1.0</td>\n",
       "      <td>5.7824</td>\n",
       "      <td>3.1616</td>\n",
       "      <td>-3.08</td>\n",
       "      <td>45.0</td>\n",
       "    </tr>\n",
       "    <tr>\n",
       "      <th>2</th>\n",
       "      <td>2.0</td>\n",
       "      <td>1.9415</td>\n",
       "      <td>3.1757</td>\n",
       "      <td>-4.15</td>\n",
       "      <td>30.0</td>\n",
       "    </tr>\n",
       "    <tr>\n",
       "      <th>3</th>\n",
       "      <td>NaN</td>\n",
       "      <td></td>\n",
       "      <td></td>\n",
       "      <td></td>\n",
       "      <td>NaN</td>\n",
       "    </tr>\n",
       "    <tr>\n",
       "      <th>4</th>\n",
       "      <td>NaN</td>\n",
       "      <td></td>\n",
       "      <td></td>\n",
       "      <td></td>\n",
       "      <td>NaN</td>\n",
       "    </tr>\n",
       "  </tbody>\n",
       "</table>\n",
       "</div>"
      ],
      "text/plain": [
       "   Unnamed: 0 genetic algorithm particle swarm algorithm simulated annealing  \\\n",
       "0         0.0       2.170955882                    3.165               -2.05   \n",
       "1         1.0            5.7824                   3.1616               -3.08   \n",
       "2         2.0            1.9415                   3.1757               -4.15   \n",
       "3         NaN                                                                  \n",
       "4         NaN                                                                  \n",
       "\n",
       "   target  \n",
       "0   100.0  \n",
       "1    45.0  \n",
       "2    30.0  \n",
       "3     NaN  \n",
       "4     NaN  "
      ]
     },
     "execution_count": 49,
     "metadata": {},
     "output_type": "execute_result"
    }
   ],
   "source": [
    "data = pd.read_csv ('Desktop\\\\research_project.csv')\n",
    "data.head()"
   ]
  },
  {
   "cell_type": "code",
   "execution_count": 45,
   "id": "4fd38338",
   "metadata": {},
   "outputs": [],
   "source": [
    "df = pd.DataFrame (data)"
   ]
  },
  {
   "cell_type": "code",
   "execution_count": 46,
   "id": "4321b8b1",
   "metadata": {},
   "outputs": [
    {
     "data": {
      "text/html": [
       "<div>\n",
       "<style scoped>\n",
       "    .dataframe tbody tr th:only-of-type {\n",
       "        vertical-align: middle;\n",
       "    }\n",
       "\n",
       "    .dataframe tbody tr th {\n",
       "        vertical-align: top;\n",
       "    }\n",
       "\n",
       "    .dataframe thead th {\n",
       "        text-align: right;\n",
       "    }\n",
       "</style>\n",
       "<table border=\"1\" class=\"dataframe\">\n",
       "  <thead>\n",
       "    <tr style=\"text-align: right;\">\n",
       "      <th></th>\n",
       "      <th>Unnamed: 0</th>\n",
       "      <th>genetic algorithm</th>\n",
       "      <th>particle swarm algorithm</th>\n",
       "      <th>simulated annealing</th>\n",
       "      <th>target</th>\n",
       "    </tr>\n",
       "  </thead>\n",
       "  <tbody>\n",
       "    <tr>\n",
       "      <th>0</th>\n",
       "      <td>0.0</td>\n",
       "      <td>2.170955882</td>\n",
       "      <td>3.165</td>\n",
       "      <td>-2.05</td>\n",
       "      <td>100.0</td>\n",
       "    </tr>\n",
       "    <tr>\n",
       "      <th>1</th>\n",
       "      <td>1.0</td>\n",
       "      <td>5.7824</td>\n",
       "      <td>3.1616</td>\n",
       "      <td>-3.08</td>\n",
       "      <td>45.0</td>\n",
       "    </tr>\n",
       "    <tr>\n",
       "      <th>2</th>\n",
       "      <td>2.0</td>\n",
       "      <td>1.9415</td>\n",
       "      <td>3.1757</td>\n",
       "      <td>-4.15</td>\n",
       "      <td>30.0</td>\n",
       "    </tr>\n",
       "    <tr>\n",
       "      <th>3</th>\n",
       "      <td>NaN</td>\n",
       "      <td></td>\n",
       "      <td></td>\n",
       "      <td></td>\n",
       "      <td>NaN</td>\n",
       "    </tr>\n",
       "    <tr>\n",
       "      <th>4</th>\n",
       "      <td>NaN</td>\n",
       "      <td></td>\n",
       "      <td></td>\n",
       "      <td></td>\n",
       "      <td>NaN</td>\n",
       "    </tr>\n",
       "    <tr>\n",
       "      <th>5</th>\n",
       "      <td>NaN</td>\n",
       "      <td>NaN</td>\n",
       "      <td></td>\n",
       "      <td></td>\n",
       "      <td>NaN</td>\n",
       "    </tr>\n",
       "  </tbody>\n",
       "</table>\n",
       "</div>"
      ],
      "text/plain": [
       "   Unnamed: 0 genetic algorithm particle swarm algorithm simulated annealing  \\\n",
       "0         0.0       2.170955882                    3.165               -2.05   \n",
       "1         1.0            5.7824                   3.1616               -3.08   \n",
       "2         2.0            1.9415                   3.1757               -4.15   \n",
       "3         NaN                                                                  \n",
       "4         NaN                                                                  \n",
       "5         NaN               NaN                                                \n",
       "\n",
       "   target  \n",
       "0   100.0  \n",
       "1    45.0  \n",
       "2    30.0  \n",
       "3     NaN  \n",
       "4     NaN  \n",
       "5     NaN  "
      ]
     },
     "execution_count": 46,
     "metadata": {},
     "output_type": "execute_result"
    }
   ],
   "source": [
    "df"
   ]
  },
  {
   "cell_type": "code",
   "execution_count": 47,
   "id": "0f463bad",
   "metadata": {},
   "outputs": [
    {
     "data": {
      "text/plain": [
       "0    2.170955882\n",
       "1         5.7824\n",
       "2         1.9415\n",
       "3               \n",
       "4               \n",
       "5            NaN\n",
       "Name: genetic algorithm, dtype: object"
      ]
     },
     "execution_count": 47,
     "metadata": {},
     "output_type": "execute_result"
    }
   ],
   "source": [
    "df ['genetic algorithm']"
   ]
  },
  {
   "cell_type": "code",
   "execution_count": 50,
   "id": "eb56d99d",
   "metadata": {},
   "outputs": [],
   "source": [
    "genetic_list = df ['genetic algorithm'].tolist ()"
   ]
  },
  {
   "cell_type": "code",
   "execution_count": 51,
   "id": "0a3e305d",
   "metadata": {},
   "outputs": [
    {
     "data": {
      "text/plain": [
       "['2.170955882', '5.7824', '1.9415', ' ', ' ', nan]"
      ]
     },
     "execution_count": 51,
     "metadata": {},
     "output_type": "execute_result"
    }
   ],
   "source": [
    "genetic_list"
   ]
  },
  {
   "cell_type": "code",
   "execution_count": 53,
   "id": "b4de63f3",
   "metadata": {},
   "outputs": [
    {
     "data": {
      "text/plain": [
       "['2.170955882', '5.7824', '1.9415', ' ', nan]"
      ]
     },
     "execution_count": 53,
     "metadata": {},
     "output_type": "execute_result"
    }
   ],
   "source": [
    "for i in genetic_list:\n",
    "    if i == 'nan' or i == ' ':\n",
    "        genetic_list.remove (i)\n",
    "genetic_list"
   ]
  },
  {
   "cell_type": "code",
   "execution_count": 55,
   "id": "89a5915c",
   "metadata": {},
   "outputs": [
    {
     "name": "stdout",
     "output_type": "stream",
     "text": [
      "2.170955882 5.7824 1.9415 "
     ]
    }
   ],
   "source": [
    "geneticList = []\n",
    "for i in range (0, 3):\n",
    "    geneticList.append (genetic_list [i])\n",
    "genetic_list = geneticList\n",
    "for i in geneticList:\n",
    "    print(i, end = \" \")    "
   ]
  },
  {
   "cell_type": "code",
   "execution_count": 56,
   "id": "c3e75c70",
   "metadata": {},
   "outputs": [
    {
     "name": "stdout",
     "output_type": "stream",
     "text": [
      "3.165 3.1616 3.1757 "
     ]
    }
   ],
   "source": [
    "particle_swarm = df ['particle swarm algorithm'].tolist ()\n",
    "particleSwarm = []\n",
    "for i in range (0, 3):\n",
    "    particleSwarm.append (particle_swarm [i])\n",
    "for i in particleSwarm:\n",
    "    print (i, end = \" \")"
   ]
  },
  {
   "cell_type": "code",
   "execution_count": 57,
   "id": "0eb7d68e",
   "metadata": {},
   "outputs": [],
   "source": [
    "particle_swarm = particleSwarm"
   ]
  },
  {
   "cell_type": "code",
   "execution_count": 58,
   "id": "b2690383",
   "metadata": {},
   "outputs": [
    {
     "name": "stdout",
     "output_type": "stream",
     "text": [
      "3.165 3.1616 3.1757 "
     ]
    }
   ],
   "source": [
    "for i in particle_swarm:\n",
    "    print (i, end = \" \")"
   ]
  },
  {
   "cell_type": "code",
   "execution_count": 62,
   "id": "395a33dc",
   "metadata": {},
   "outputs": [],
   "source": [
    "simulated_annealing = df ['simulated annealing'].tolist ()"
   ]
  },
  {
   "cell_type": "code",
   "execution_count": 63,
   "id": "3b4f46f7",
   "metadata": {},
   "outputs": [],
   "source": [
    "simulatedAnnealing = []\n",
    "for i in range (0, 3):\n",
    "    simulatedAnnealing.append (simulated_annealing [i])"
   ]
  },
  {
   "cell_type": "code",
   "execution_count": 64,
   "id": "7d4b3b74",
   "metadata": {},
   "outputs": [],
   "source": [
    "simulated_annealing = simulatedAnnealing"
   ]
  },
  {
   "cell_type": "code",
   "execution_count": 65,
   "id": "3c158020",
   "metadata": {},
   "outputs": [
    {
     "name": "stdout",
     "output_type": "stream",
     "text": [
      "-2.05 -3.08 -4.15 "
     ]
    }
   ],
   "source": [
    "for i in simulated_annealing:\n",
    "    print (i, end = \" \")"
   ]
  },
  {
   "cell_type": "code",
   "execution_count": 66,
   "id": "1263e53e",
   "metadata": {},
   "outputs": [],
   "source": [
    "_ = []\n",
    "for i in range (0, 3):\n",
    "    _.append (target [i])\n",
    "target = _"
   ]
  },
  {
   "cell_type": "code",
   "execution_count": 68,
   "id": "9ab492e5",
   "metadata": {},
   "outputs": [
    {
     "name": "stdout",
     "output_type": "stream",
     "text": [
      "100 45 30 "
     ]
    }
   ],
   "source": [
    "for i in target:\n",
    "    print (i, end = \" \")"
   ]
  },
  {
   "cell_type": "code",
   "execution_count": 74,
   "id": "dbbf23d0",
   "metadata": {},
   "outputs": [],
   "source": [
    "dict_algo = {\n",
    "    'Genetic' : genetic_list,\n",
    "    'Particle Swarm': particle_swarm,\n",
    "    'simulated annealing' : simulated_annealing,\n",
    "    'target' : target\n",
    "}\n",
    "df = pd.DataFrame (dict_algo)\n",
    "df.to_csv ('Desktop\\\\research_project')"
   ]
  },
  {
   "cell_type": "code",
   "execution_count": 75,
   "id": "547ba130",
   "metadata": {},
   "outputs": [
    {
     "data": {
      "text/html": [
       "<div>\n",
       "<style scoped>\n",
       "    .dataframe tbody tr th:only-of-type {\n",
       "        vertical-align: middle;\n",
       "    }\n",
       "\n",
       "    .dataframe tbody tr th {\n",
       "        vertical-align: top;\n",
       "    }\n",
       "\n",
       "    .dataframe thead th {\n",
       "        text-align: right;\n",
       "    }\n",
       "</style>\n",
       "<table border=\"1\" class=\"dataframe\">\n",
       "  <thead>\n",
       "    <tr style=\"text-align: right;\">\n",
       "      <th></th>\n",
       "      <th>Unnamed: 0</th>\n",
       "      <th>Genetic</th>\n",
       "      <th>Particle Swarm</th>\n",
       "      <th>simulated annealing</th>\n",
       "      <th>target</th>\n",
       "    </tr>\n",
       "  </thead>\n",
       "  <tbody>\n",
       "    <tr>\n",
       "      <th>0</th>\n",
       "      <td>0</td>\n",
       "      <td>2.170956</td>\n",
       "      <td>3.1650</td>\n",
       "      <td>-2.05</td>\n",
       "      <td>100</td>\n",
       "    </tr>\n",
       "    <tr>\n",
       "      <th>1</th>\n",
       "      <td>1</td>\n",
       "      <td>5.782400</td>\n",
       "      <td>3.1616</td>\n",
       "      <td>-3.08</td>\n",
       "      <td>45</td>\n",
       "    </tr>\n",
       "    <tr>\n",
       "      <th>2</th>\n",
       "      <td>2</td>\n",
       "      <td>1.941500</td>\n",
       "      <td>3.1757</td>\n",
       "      <td>-4.15</td>\n",
       "      <td>30</td>\n",
       "    </tr>\n",
       "  </tbody>\n",
       "</table>\n",
       "</div>"
      ],
      "text/plain": [
       "   Unnamed: 0   Genetic  Particle Swarm  simulated annealing  target\n",
       "0           0  2.170956          3.1650                -2.05     100\n",
       "1           1  5.782400          3.1616                -3.08      45\n",
       "2           2  1.941500          3.1757                -4.15      30"
      ]
     },
     "execution_count": 75,
     "metadata": {},
     "output_type": "execute_result"
    }
   ],
   "source": [
    "data = pd.read_csv ('Desktop\\\\research_project')\n",
    "data.head ()"
   ]
  },
  {
   "cell_type": "code",
   "execution_count": 76,
   "id": "68588a93",
   "metadata": {},
   "outputs": [],
   "source": [
    "df = pd.DataFrame (data)"
   ]
  },
  {
   "cell_type": "code",
   "execution_count": 77,
   "id": "c53e127d",
   "metadata": {},
   "outputs": [
    {
     "data": {
      "text/html": [
       "<div>\n",
       "<style scoped>\n",
       "    .dataframe tbody tr th:only-of-type {\n",
       "        vertical-align: middle;\n",
       "    }\n",
       "\n",
       "    .dataframe tbody tr th {\n",
       "        vertical-align: top;\n",
       "    }\n",
       "\n",
       "    .dataframe thead th {\n",
       "        text-align: right;\n",
       "    }\n",
       "</style>\n",
       "<table border=\"1\" class=\"dataframe\">\n",
       "  <thead>\n",
       "    <tr style=\"text-align: right;\">\n",
       "      <th></th>\n",
       "      <th>Unnamed: 0</th>\n",
       "      <th>Genetic</th>\n",
       "      <th>Particle Swarm</th>\n",
       "      <th>simulated annealing</th>\n",
       "      <th>target</th>\n",
       "    </tr>\n",
       "  </thead>\n",
       "  <tbody>\n",
       "    <tr>\n",
       "      <th>0</th>\n",
       "      <td>0</td>\n",
       "      <td>2.170956</td>\n",
       "      <td>3.1650</td>\n",
       "      <td>-2.05</td>\n",
       "      <td>100</td>\n",
       "    </tr>\n",
       "    <tr>\n",
       "      <th>1</th>\n",
       "      <td>1</td>\n",
       "      <td>5.782400</td>\n",
       "      <td>3.1616</td>\n",
       "      <td>-3.08</td>\n",
       "      <td>45</td>\n",
       "    </tr>\n",
       "    <tr>\n",
       "      <th>2</th>\n",
       "      <td>2</td>\n",
       "      <td>1.941500</td>\n",
       "      <td>3.1757</td>\n",
       "      <td>-4.15</td>\n",
       "      <td>30</td>\n",
       "    </tr>\n",
       "  </tbody>\n",
       "</table>\n",
       "</div>"
      ],
      "text/plain": [
       "   Unnamed: 0   Genetic  Particle Swarm  simulated annealing  target\n",
       "0           0  2.170956          3.1650                -2.05     100\n",
       "1           1  5.782400          3.1616                -3.08      45\n",
       "2           2  1.941500          3.1757                -4.15      30"
      ]
     },
     "execution_count": 77,
     "metadata": {},
     "output_type": "execute_result"
    }
   ],
   "source": [
    "df"
   ]
  },
  {
   "cell_type": "code",
   "execution_count": 81,
   "id": "ddad0711",
   "metadata": {},
   "outputs": [
    {
     "data": {
      "text/plain": [
       "<AxesSubplot:xlabel='Genetic', ylabel='target'>"
      ]
     },
     "execution_count": 81,
     "metadata": {},
     "output_type": "execute_result"
    },
    {
     "data": {
      "image/png": "[encoded data removed]",
      "text/plain": [
       "<Figure size 1440x648 with 1 Axes>"
      ]
     },
     "metadata": {
      "needs_background": "light"
     },
     "output_type": "display_data"
    }
   ],
   "source": [
    "plt.figure (figsize = (20, 9))\n",
    "sb.barplot (x = 'Genetic', y = 'target', data = data)"
   ]
  },
  {
   "cell_type": "code",
   "execution_count": 82,
   "id": "603560b6",
   "metadata": {},
   "outputs": [
    {
     "data": {
      "text/plain": [
       "<AxesSubplot:xlabel='Particle Swarm', ylabel='target'>"
      ]
     },
     "execution_count": 82,
     "metadata": {},
     "output_type": "execute_result"
    },
    {
     "data": {
      "image/png": "[encoded data removed]",
      "text/plain": [
       "<Figure size 1440x648 with 1 Axes>"
      ]
     },
     "metadata": {
      "needs_background": "light"
     },
     "output_type": "display_data"
    }
   ],
   "source": [
    " plt.figure (figsize = (20, 9))\n",
    "sb.barplot (x = 'Particle Swarm', y = 'target', data = data)"
   ]
  },
  {
   "cell_type": "code",
   "execution_count": 83,
   "id": "238c615c",
   "metadata": {},
   "outputs": [
    {
     "data": {
      "text/plain": [
       "<AxesSubplot:xlabel='simulated annealing', ylabel='target'>"
      ]
     },
     "execution_count": 83,
     "metadata": {},
     "output_type": "execute_result"
    },
    {
     "data": {
      "image/png": "[encoded data removed]",
      "text/plain": [
       "<Figure size 1440x648 with 1 Axes>"
      ]
     },
     "metadata": {
      "needs_background": "light"
     },
     "output_type": "display_data"
    }
   ],
   "source": [
    "plt.figure (figsize = (20, 9))\n",
    "sb.barplot (x = 'simulated annealing', y = 'target', data = data)"
   ]
  },
  {
   "cell_type": "code",
   "execution_count": null,
   "id": "86aa7aa6",
   "metadata": {},
   "outputs": [],
   "source": []
  }
 ],
 "metadata": {
  "kernelspec": {
   "display_name": "Python 3",
   "language": "python",
   "name": "python3"
  },
  "language_info": {
   "codemirror_mode": {
    "name": "ipython",
    "version": 3
   },
   "file_extension": ".py",
   "mimetype": "text/x-python",
   "name": "python",
   "nbconvert_exporter": "python",
   "pygments_lexer": "ipython3",
   "version": "3.8.8"
  }
 },
 "nbformat": 4,
 "nbformat_minor": 5
}
